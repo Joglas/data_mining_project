{
 "cells": [
  {
   "cell_type": "markdown",
   "metadata": {},
   "source": [
    "## Dengue Forecast Model"
   ]
  },
  {
   "cell_type": "markdown",
   "metadata": {},
   "source": [
    "#### Importing the data"
   ]
  },
  {
   "cell_type": "code",
   "execution_count": 1,
   "metadata": {
    "collapsed": true
   },
   "outputs": [],
   "source": [
    "import pandas as pd\n",
    "import numpy as np\n",
    "\n",
    "features_independet_variables = 'DengAI_Predicting_Disease_Spread_-_Training_Data_Features.csv'\n",
    "feature_dependent_variable = 'DengAI_Predicting_Disease_Spread_-_Training_Data_Labels.csv'\n",
    "google_trend = 'google_trends_dengue.csv'\n",
    "\n",
    "df_independent_variables = pd.read_csv(features_independet_variables)\n",
    "df_dependent_variable = pd.read_csv(feature_dependent_variable)\n",
    "df_google_trend = pd.read_csv(google_trend)"
   ]
  },
  {
   "cell_type": "code",
   "execution_count": 2,
   "metadata": {},
   "outputs": [
    {
     "data": {
      "text/html": [
       "<div>\n",
       "<style>\n",
       "    .dataframe thead tr:only-child th {\n",
       "        text-align: right;\n",
       "    }\n",
       "\n",
       "    .dataframe thead th {\n",
       "        text-align: left;\n",
       "    }\n",
       "\n",
       "    .dataframe tbody tr th {\n",
       "        vertical-align: top;\n",
       "    }\n",
       "</style>\n",
       "<table border=\"1\" class=\"dataframe\">\n",
       "  <thead>\n",
       "    <tr style=\"text-align: right;\">\n",
       "      <th></th>\n",
       "      <th>city</th>\n",
       "      <th>year</th>\n",
       "      <th>weekofyear</th>\n",
       "      <th>week_start_date</th>\n",
       "      <th>ndvi_ne</th>\n",
       "      <th>ndvi_nw</th>\n",
       "      <th>ndvi_se</th>\n",
       "      <th>ndvi_sw</th>\n",
       "      <th>precipitation_amt_mm</th>\n",
       "      <th>reanalysis_air_temp_k</th>\n",
       "      <th>...</th>\n",
       "      <th>reanalysis_precip_amt_kg_per_m2</th>\n",
       "      <th>reanalysis_relative_humidity_percent</th>\n",
       "      <th>reanalysis_sat_precip_amt_mm</th>\n",
       "      <th>reanalysis_specific_humidity_g_per_kg</th>\n",
       "      <th>reanalysis_tdtr_k</th>\n",
       "      <th>station_avg_temp_c</th>\n",
       "      <th>station_diur_temp_rng_c</th>\n",
       "      <th>station_max_temp_c</th>\n",
       "      <th>station_min_temp_c</th>\n",
       "      <th>station_precip_mm</th>\n",
       "    </tr>\n",
       "  </thead>\n",
       "  <tbody>\n",
       "    <tr>\n",
       "      <th>0</th>\n",
       "      <td>sj</td>\n",
       "      <td>1990</td>\n",
       "      <td>18</td>\n",
       "      <td>1990-04-30</td>\n",
       "      <td>0.122600</td>\n",
       "      <td>0.103725</td>\n",
       "      <td>0.198483</td>\n",
       "      <td>0.177617</td>\n",
       "      <td>12.42</td>\n",
       "      <td>297.572857</td>\n",
       "      <td>...</td>\n",
       "      <td>32.00</td>\n",
       "      <td>73.365714</td>\n",
       "      <td>12.42</td>\n",
       "      <td>14.012857</td>\n",
       "      <td>2.628571</td>\n",
       "      <td>25.442857</td>\n",
       "      <td>6.900000</td>\n",
       "      <td>29.4</td>\n",
       "      <td>20.0</td>\n",
       "      <td>16.0</td>\n",
       "    </tr>\n",
       "    <tr>\n",
       "      <th>1</th>\n",
       "      <td>sj</td>\n",
       "      <td>1990</td>\n",
       "      <td>19</td>\n",
       "      <td>1990-05-07</td>\n",
       "      <td>0.169900</td>\n",
       "      <td>0.142175</td>\n",
       "      <td>0.162357</td>\n",
       "      <td>0.155486</td>\n",
       "      <td>22.82</td>\n",
       "      <td>298.211429</td>\n",
       "      <td>...</td>\n",
       "      <td>17.94</td>\n",
       "      <td>77.368571</td>\n",
       "      <td>22.82</td>\n",
       "      <td>15.372857</td>\n",
       "      <td>2.371429</td>\n",
       "      <td>26.714286</td>\n",
       "      <td>6.371429</td>\n",
       "      <td>31.7</td>\n",
       "      <td>22.2</td>\n",
       "      <td>8.6</td>\n",
       "    </tr>\n",
       "    <tr>\n",
       "      <th>2</th>\n",
       "      <td>sj</td>\n",
       "      <td>1990</td>\n",
       "      <td>20</td>\n",
       "      <td>1990-05-14</td>\n",
       "      <td>0.032250</td>\n",
       "      <td>0.172967</td>\n",
       "      <td>0.157200</td>\n",
       "      <td>0.170843</td>\n",
       "      <td>34.54</td>\n",
       "      <td>298.781429</td>\n",
       "      <td>...</td>\n",
       "      <td>26.10</td>\n",
       "      <td>82.052857</td>\n",
       "      <td>34.54</td>\n",
       "      <td>16.848571</td>\n",
       "      <td>2.300000</td>\n",
       "      <td>26.714286</td>\n",
       "      <td>6.485714</td>\n",
       "      <td>32.2</td>\n",
       "      <td>22.8</td>\n",
       "      <td>41.4</td>\n",
       "    </tr>\n",
       "    <tr>\n",
       "      <th>3</th>\n",
       "      <td>sj</td>\n",
       "      <td>1990</td>\n",
       "      <td>21</td>\n",
       "      <td>1990-05-21</td>\n",
       "      <td>0.128633</td>\n",
       "      <td>0.245067</td>\n",
       "      <td>0.227557</td>\n",
       "      <td>0.235886</td>\n",
       "      <td>15.36</td>\n",
       "      <td>298.987143</td>\n",
       "      <td>...</td>\n",
       "      <td>13.90</td>\n",
       "      <td>80.337143</td>\n",
       "      <td>15.36</td>\n",
       "      <td>16.672857</td>\n",
       "      <td>2.428571</td>\n",
       "      <td>27.471429</td>\n",
       "      <td>6.771429</td>\n",
       "      <td>33.3</td>\n",
       "      <td>23.3</td>\n",
       "      <td>4.0</td>\n",
       "    </tr>\n",
       "    <tr>\n",
       "      <th>4</th>\n",
       "      <td>sj</td>\n",
       "      <td>1990</td>\n",
       "      <td>22</td>\n",
       "      <td>1990-05-28</td>\n",
       "      <td>0.196200</td>\n",
       "      <td>0.262200</td>\n",
       "      <td>0.251200</td>\n",
       "      <td>0.247340</td>\n",
       "      <td>7.52</td>\n",
       "      <td>299.518571</td>\n",
       "      <td>...</td>\n",
       "      <td>12.20</td>\n",
       "      <td>80.460000</td>\n",
       "      <td>7.52</td>\n",
       "      <td>17.210000</td>\n",
       "      <td>3.014286</td>\n",
       "      <td>28.942857</td>\n",
       "      <td>9.371429</td>\n",
       "      <td>35.0</td>\n",
       "      <td>23.9</td>\n",
       "      <td>5.8</td>\n",
       "    </tr>\n",
       "  </tbody>\n",
       "</table>\n",
       "<p>5 rows × 24 columns</p>\n",
       "</div>"
      ],
      "text/plain": [
       "  city  year  weekofyear week_start_date   ndvi_ne   ndvi_nw   ndvi_se  \\\n",
       "0   sj  1990          18      1990-04-30  0.122600  0.103725  0.198483   \n",
       "1   sj  1990          19      1990-05-07  0.169900  0.142175  0.162357   \n",
       "2   sj  1990          20      1990-05-14  0.032250  0.172967  0.157200   \n",
       "3   sj  1990          21      1990-05-21  0.128633  0.245067  0.227557   \n",
       "4   sj  1990          22      1990-05-28  0.196200  0.262200  0.251200   \n",
       "\n",
       "    ndvi_sw  precipitation_amt_mm  reanalysis_air_temp_k        ...          \\\n",
       "0  0.177617                 12.42             297.572857        ...           \n",
       "1  0.155486                 22.82             298.211429        ...           \n",
       "2  0.170843                 34.54             298.781429        ...           \n",
       "3  0.235886                 15.36             298.987143        ...           \n",
       "4  0.247340                  7.52             299.518571        ...           \n",
       "\n",
       "   reanalysis_precip_amt_kg_per_m2  reanalysis_relative_humidity_percent  \\\n",
       "0                            32.00                             73.365714   \n",
       "1                            17.94                             77.368571   \n",
       "2                            26.10                             82.052857   \n",
       "3                            13.90                             80.337143   \n",
       "4                            12.20                             80.460000   \n",
       "\n",
       "   reanalysis_sat_precip_amt_mm  reanalysis_specific_humidity_g_per_kg  \\\n",
       "0                         12.42                              14.012857   \n",
       "1                         22.82                              15.372857   \n",
       "2                         34.54                              16.848571   \n",
       "3                         15.36                              16.672857   \n",
       "4                          7.52                              17.210000   \n",
       "\n",
       "   reanalysis_tdtr_k  station_avg_temp_c  station_diur_temp_rng_c  \\\n",
       "0           2.628571           25.442857                 6.900000   \n",
       "1           2.371429           26.714286                 6.371429   \n",
       "2           2.300000           26.714286                 6.485714   \n",
       "3           2.428571           27.471429                 6.771429   \n",
       "4           3.014286           28.942857                 9.371429   \n",
       "\n",
       "   station_max_temp_c  station_min_temp_c  station_precip_mm  \n",
       "0                29.4                20.0               16.0  \n",
       "1                31.7                22.2                8.6  \n",
       "2                32.2                22.8               41.4  \n",
       "3                33.3                23.3                4.0  \n",
       "4                35.0                23.9                5.8  \n",
       "\n",
       "[5 rows x 24 columns]"
      ]
     },
     "execution_count": 2,
     "metadata": {},
     "output_type": "execute_result"
    }
   ],
   "source": [
    "df_independent_variables.head()"
   ]
  },
  {
   "cell_type": "code",
   "execution_count": 3,
   "metadata": {},
   "outputs": [
    {
     "data": {
      "text/html": [
       "<div>\n",
       "<style>\n",
       "    .dataframe thead tr:only-child th {\n",
       "        text-align: right;\n",
       "    }\n",
       "\n",
       "    .dataframe thead th {\n",
       "        text-align: left;\n",
       "    }\n",
       "\n",
       "    .dataframe tbody tr th {\n",
       "        vertical-align: top;\n",
       "    }\n",
       "</style>\n",
       "<table border=\"1\" class=\"dataframe\">\n",
       "  <thead>\n",
       "    <tr style=\"text-align: right;\">\n",
       "      <th></th>\n",
       "      <th>city</th>\n",
       "      <th>year</th>\n",
       "      <th>weekofyear</th>\n",
       "      <th>total_cases</th>\n",
       "    </tr>\n",
       "  </thead>\n",
       "  <tbody>\n",
       "    <tr>\n",
       "      <th>0</th>\n",
       "      <td>sj</td>\n",
       "      <td>1990</td>\n",
       "      <td>18</td>\n",
       "      <td>4</td>\n",
       "    </tr>\n",
       "    <tr>\n",
       "      <th>1</th>\n",
       "      <td>sj</td>\n",
       "      <td>1990</td>\n",
       "      <td>19</td>\n",
       "      <td>5</td>\n",
       "    </tr>\n",
       "    <tr>\n",
       "      <th>2</th>\n",
       "      <td>sj</td>\n",
       "      <td>1990</td>\n",
       "      <td>20</td>\n",
       "      <td>4</td>\n",
       "    </tr>\n",
       "    <tr>\n",
       "      <th>3</th>\n",
       "      <td>sj</td>\n",
       "      <td>1990</td>\n",
       "      <td>21</td>\n",
       "      <td>3</td>\n",
       "    </tr>\n",
       "    <tr>\n",
       "      <th>4</th>\n",
       "      <td>sj</td>\n",
       "      <td>1990</td>\n",
       "      <td>22</td>\n",
       "      <td>6</td>\n",
       "    </tr>\n",
       "  </tbody>\n",
       "</table>\n",
       "</div>"
      ],
      "text/plain": [
       "  city  year  weekofyear  total_cases\n",
       "0   sj  1990          18            4\n",
       "1   sj  1990          19            5\n",
       "2   sj  1990          20            4\n",
       "3   sj  1990          21            3\n",
       "4   sj  1990          22            6"
      ]
     },
     "execution_count": 3,
     "metadata": {},
     "output_type": "execute_result"
    }
   ],
   "source": [
    "df_dependent_variable.head()"
   ]
  },
  {
   "cell_type": "code",
   "execution_count": 4,
   "metadata": {},
   "outputs": [
    {
     "data": {
      "text/html": [
       "<div>\n",
       "<style>\n",
       "    .dataframe thead tr:only-child th {\n",
       "        text-align: right;\n",
       "    }\n",
       "\n",
       "    .dataframe thead th {\n",
       "        text-align: left;\n",
       "    }\n",
       "\n",
       "    .dataframe tbody tr th {\n",
       "        vertical-align: top;\n",
       "    }\n",
       "</style>\n",
       "<table border=\"1\" class=\"dataframe\">\n",
       "  <thead>\n",
       "    <tr style=\"text-align: right;\">\n",
       "      <th></th>\n",
       "      <th>Week</th>\n",
       "      <th>dengue</th>\n",
       "    </tr>\n",
       "  </thead>\n",
       "  <tbody>\n",
       "    <tr>\n",
       "      <th>0</th>\n",
       "      <td>2004-01-04</td>\n",
       "      <td>0</td>\n",
       "    </tr>\n",
       "    <tr>\n",
       "      <th>1</th>\n",
       "      <td>2004-01-11</td>\n",
       "      <td>0</td>\n",
       "    </tr>\n",
       "    <tr>\n",
       "      <th>2</th>\n",
       "      <td>2004-01-18</td>\n",
       "      <td>0</td>\n",
       "    </tr>\n",
       "    <tr>\n",
       "      <th>3</th>\n",
       "      <td>2004-01-25</td>\n",
       "      <td>0</td>\n",
       "    </tr>\n",
       "    <tr>\n",
       "      <th>4</th>\n",
       "      <td>2004-02-01</td>\n",
       "      <td>0</td>\n",
       "    </tr>\n",
       "  </tbody>\n",
       "</table>\n",
       "</div>"
      ],
      "text/plain": [
       "         Week  dengue\n",
       "0  2004-01-04       0\n",
       "1  2004-01-11       0\n",
       "2  2004-01-18       0\n",
       "3  2004-01-25       0\n",
       "4  2004-02-01       0"
      ]
     },
     "execution_count": 4,
     "metadata": {},
     "output_type": "execute_result"
    }
   ],
   "source": [
    "df_google_trend.head()"
   ]
  },
  {
   "cell_type": "markdown",
   "metadata": {},
   "source": [
    "#### Applying filters"
   ]
  },
  {
   "cell_type": "code",
   "execution_count": 5,
   "metadata": {
    "collapsed": true
   },
   "outputs": [],
   "source": [
    "#Considering only the city of San Juan and cases starting in 2004\n",
    "df_independent_variables = df_independent_variables[(df_independent_variables.city == 'sj') & \n",
    "                                                    (df_independent_variables.year >= 2004)]"
   ]
  },
  {
   "cell_type": "code",
   "execution_count": 6,
   "metadata": {
    "collapsed": true
   },
   "outputs": [],
   "source": [
    "df_dependent_variable = df_dependent_variable[(df_dependent_variable.city == 'sj') &\n",
    "                                             (df_dependent_variable.year >= 2004)]"
   ]
  },
  {
   "cell_type": "code",
   "execution_count": 7,
   "metadata": {},
   "outputs": [
    {
     "data": {
      "text/plain": [
       "Index(['city', 'year', 'weekofyear', 'week_start_date', 'ndvi_ne', 'ndvi_nw',\n",
       "       'ndvi_se', 'ndvi_sw', 'precipitation_amt_mm', 'reanalysis_air_temp_k',\n",
       "       'reanalysis_avg_temp_k', 'reanalysis_dew_point_temp_k',\n",
       "       'reanalysis_max_air_temp_k', 'reanalysis_min_air_temp_k',\n",
       "       'reanalysis_precip_amt_kg_per_m2',\n",
       "       'reanalysis_relative_humidity_percent', 'reanalysis_sat_precip_amt_mm',\n",
       "       'reanalysis_specific_humidity_g_per_kg', 'reanalysis_tdtr_k',\n",
       "       'station_avg_temp_c', 'station_diur_temp_rng_c', 'station_max_temp_c',\n",
       "       'station_min_temp_c', 'station_precip_mm'],\n",
       "      dtype='object')"
      ]
     },
     "execution_count": 7,
     "metadata": {},
     "output_type": "execute_result"
    }
   ],
   "source": [
    "df_independent_variables.columns"
   ]
  },
  {
   "cell_type": "markdown",
   "metadata": {},
   "source": [
    "#### Data Cleaning"
   ]
  },
  {
   "cell_type": "code",
   "execution_count": 8,
   "metadata": {
    "collapsed": true
   },
   "outputs": [],
   "source": [
    "# Selecting features\n",
    "df_independent_variables_2 = df_independent_variables[['city', 'year', 'weekofyear', 'week_start_date', 'precipitation_amt_mm',\n",
    "                          'reanalysis_relative_humidity_percent', 'station_avg_temp_c']]"
   ]
  },
  {
   "cell_type": "code",
   "execution_count": 9,
   "metadata": {},
   "outputs": [
    {
     "data": {
      "text/html": [
       "<div>\n",
       "<style>\n",
       "    .dataframe thead tr:only-child th {\n",
       "        text-align: right;\n",
       "    }\n",
       "\n",
       "    .dataframe thead th {\n",
       "        text-align: left;\n",
       "    }\n",
       "\n",
       "    .dataframe tbody tr th {\n",
       "        vertical-align: top;\n",
       "    }\n",
       "</style>\n",
       "<table border=\"1\" class=\"dataframe\">\n",
       "  <thead>\n",
       "    <tr style=\"text-align: right;\">\n",
       "      <th></th>\n",
       "      <th>city</th>\n",
       "      <th>year</th>\n",
       "      <th>weekofyear</th>\n",
       "      <th>week_start_date</th>\n",
       "      <th>precipitation_amt_mm</th>\n",
       "      <th>reanalysis_relative_humidity_percent</th>\n",
       "      <th>station_avg_temp_c</th>\n",
       "    </tr>\n",
       "  </thead>\n",
       "  <tbody>\n",
       "    <tr>\n",
       "      <th>711</th>\n",
       "      <td>sj</td>\n",
       "      <td>2004</td>\n",
       "      <td>1</td>\n",
       "      <td>2004-01-01</td>\n",
       "      <td>NaN</td>\n",
       "      <td>NaN</td>\n",
       "      <td>NaN</td>\n",
       "    </tr>\n",
       "    <tr>\n",
       "      <th>712</th>\n",
       "      <td>sj</td>\n",
       "      <td>2004</td>\n",
       "      <td>2</td>\n",
       "      <td>2004-01-08</td>\n",
       "      <td>0.00</td>\n",
       "      <td>72.577143</td>\n",
       "      <td>24.385714</td>\n",
       "    </tr>\n",
       "    <tr>\n",
       "      <th>713</th>\n",
       "      <td>sj</td>\n",
       "      <td>2004</td>\n",
       "      <td>3</td>\n",
       "      <td>2004-01-15</td>\n",
       "      <td>36.07</td>\n",
       "      <td>78.942857</td>\n",
       "      <td>24.342857</td>\n",
       "    </tr>\n",
       "    <tr>\n",
       "      <th>714</th>\n",
       "      <td>sj</td>\n",
       "      <td>2004</td>\n",
       "      <td>4</td>\n",
       "      <td>2004-01-22</td>\n",
       "      <td>0.00</td>\n",
       "      <td>78.264286</td>\n",
       "      <td>24.528571</td>\n",
       "    </tr>\n",
       "    <tr>\n",
       "      <th>715</th>\n",
       "      <td>sj</td>\n",
       "      <td>2004</td>\n",
       "      <td>5</td>\n",
       "      <td>2004-01-29</td>\n",
       "      <td>0.00</td>\n",
       "      <td>75.422857</td>\n",
       "      <td>24.628571</td>\n",
       "    </tr>\n",
       "  </tbody>\n",
       "</table>\n",
       "</div>"
      ],
      "text/plain": [
       "    city  year  weekofyear week_start_date  precipitation_amt_mm  \\\n",
       "711   sj  2004           1      2004-01-01                   NaN   \n",
       "712   sj  2004           2      2004-01-08                  0.00   \n",
       "713   sj  2004           3      2004-01-15                 36.07   \n",
       "714   sj  2004           4      2004-01-22                  0.00   \n",
       "715   sj  2004           5      2004-01-29                  0.00   \n",
       "\n",
       "     reanalysis_relative_humidity_percent  station_avg_temp_c  \n",
       "711                                   NaN                 NaN  \n",
       "712                             72.577143           24.385714  \n",
       "713                             78.942857           24.342857  \n",
       "714                             78.264286           24.528571  \n",
       "715                             75.422857           24.628571  "
      ]
     },
     "execution_count": 9,
     "metadata": {},
     "output_type": "execute_result"
    }
   ],
   "source": [
    "df_independent_variables_2.head()"
   ]
  },
  {
   "cell_type": "code",
   "execution_count": 10,
   "metadata": {},
   "outputs": [
    {
     "name": "stdout",
     "output_type": "stream",
     "text": [
      "city                                    0\n",
      "year                                    0\n",
      "weekofyear                              0\n",
      "week_start_date                         0\n",
      "precipitation_amt_mm                    2\n",
      "reanalysis_relative_humidity_percent    2\n",
      "station_avg_temp_c                      2\n",
      "dtype: int64\n"
     ]
    }
   ],
   "source": [
    "# Checking null values\n",
    "print (df_independent_variables_2.isnull().sum())"
   ]
  },
  {
   "cell_type": "code",
   "execution_count": 11,
   "metadata": {},
   "outputs": [
    {
     "name": "stdout",
     "output_type": "stream",
     "text": [
      "city           0\n",
      "year           0\n",
      "weekofyear     0\n",
      "total_cases    0\n",
      "dtype: int64\n"
     ]
    }
   ],
   "source": [
    "print (df_dependent_variable.isnull().sum())"
   ]
  },
  {
   "cell_type": "code",
   "execution_count": 12,
   "metadata": {},
   "outputs": [
    {
     "name": "stdout",
     "output_type": "stream",
     "text": [
      "Week      0\n",
      "dengue    0\n",
      "dtype: int64\n"
     ]
    }
   ],
   "source": [
    "print (df_google_trend.isnull().sum())"
   ]
  },
  {
   "cell_type": "code",
   "execution_count": 13,
   "metadata": {
    "collapsed": true
   },
   "outputs": [],
   "source": [
    "# Filling null values with the mean\n",
    "\n",
    "precipitation_amt_mm_mean = round(df_independent_variables_2['precipitation_amt_mm'].mean(),2)\n",
    "reanalysis_relative_humidity_percent_mean = round(df_independent_variables_2['reanalysis_relative_humidity_percent'].mean(), 6)\n",
    "station_avg_temp_c_mean = round(df_independent_variables_2['station_avg_temp_c'].mean(), 6)\n",
    "\n",
    "values = {'precipitation_amt_mm': precipitation_amt_mm_mean, \n",
    "          'reanalysis_relative_humidity_percent': reanalysis_relative_humidity_percent_mean,\n",
    "          'station_avg_temp_c': station_avg_temp_c_mean}\n",
    "\n",
    "df_independent_variables_2 = df_independent_variables_2.fillna(value = values)"
   ]
  },
  {
   "cell_type": "markdown",
   "metadata": {},
   "source": [
    "#### Joining the datasets"
   ]
  },
  {
   "cell_type": "code",
   "execution_count": 14,
   "metadata": {},
   "outputs": [
    {
     "data": {
      "text/plain": [
       "Week      object\n",
       "dengue     int64\n",
       "dtype: object"
      ]
     },
     "execution_count": 14,
     "metadata": {},
     "output_type": "execute_result"
    }
   ],
   "source": [
    "df_google_trend.dtypes"
   ]
  },
  {
   "cell_type": "code",
   "execution_count": 15,
   "metadata": {
    "collapsed": true
   },
   "outputs": [],
   "source": [
    "#Joining datasets with the independent and dependent features\n",
    "\n",
    "complete_dataset = df_independent_variables_2.merge(df_dependent_variable, on=['weekofyear', 'year'],\n",
    "                                                   how = 'inner')"
   ]
  },
  {
   "cell_type": "code",
   "execution_count": 16,
   "metadata": {
    "collapsed": true
   },
   "outputs": [],
   "source": [
    "# Droping similar column between datasets\n",
    "complete_dataset = complete_dataset.drop(labels='city_y', axis=1)"
   ]
  },
  {
   "cell_type": "code",
   "execution_count": 17,
   "metadata": {
    "collapsed": true
   },
   "outputs": [],
   "source": [
    "#Adding columns to the Google Trends dataset for merging\n",
    "df_google_trend['Week'] = pd.to_datetime(df_google_trend['Week'])\n",
    "df_google_trend['year'] = df_google_trend['Week'].dt.year"
   ]
  },
  {
   "cell_type": "code",
   "execution_count": 18,
   "metadata": {
    "collapsed": true
   },
   "outputs": [],
   "source": [
    "#Adding number of weeks for each year (we don't have this variable on Google trends dataset)\n",
    "\n",
    "count_weeks = df_google_trend.groupby(['year']).size()\n",
    "df_google_trend['weekofyear'] = 0\n",
    "\n",
    "for year in count_weeks.index:\n",
    "    list_weeks = np.arange(1, count_weeks[year] + 1)\n",
    "    df_google_trend.loc[df_google_trend['year'] == year, 'weekofyear'] = list_weeks"
   ]
  },
  {
   "cell_type": "code",
   "execution_count": 19,
   "metadata": {},
   "outputs": [
    {
     "data": {
      "text/html": [
       "<div>\n",
       "<style>\n",
       "    .dataframe thead tr:only-child th {\n",
       "        text-align: right;\n",
       "    }\n",
       "\n",
       "    .dataframe thead th {\n",
       "        text-align: left;\n",
       "    }\n",
       "\n",
       "    .dataframe tbody tr th {\n",
       "        vertical-align: top;\n",
       "    }\n",
       "</style>\n",
       "<table border=\"1\" class=\"dataframe\">\n",
       "  <thead>\n",
       "    <tr style=\"text-align: right;\">\n",
       "      <th></th>\n",
       "      <th>Week</th>\n",
       "      <th>dengue</th>\n",
       "      <th>year</th>\n",
       "      <th>weekofyear</th>\n",
       "    </tr>\n",
       "  </thead>\n",
       "  <tbody>\n",
       "    <tr>\n",
       "      <th>0</th>\n",
       "      <td>2004-01-04</td>\n",
       "      <td>0</td>\n",
       "      <td>2004</td>\n",
       "      <td>1</td>\n",
       "    </tr>\n",
       "    <tr>\n",
       "      <th>1</th>\n",
       "      <td>2004-01-11</td>\n",
       "      <td>0</td>\n",
       "      <td>2004</td>\n",
       "      <td>2</td>\n",
       "    </tr>\n",
       "    <tr>\n",
       "      <th>2</th>\n",
       "      <td>2004-01-18</td>\n",
       "      <td>0</td>\n",
       "      <td>2004</td>\n",
       "      <td>3</td>\n",
       "    </tr>\n",
       "    <tr>\n",
       "      <th>3</th>\n",
       "      <td>2004-01-25</td>\n",
       "      <td>0</td>\n",
       "      <td>2004</td>\n",
       "      <td>4</td>\n",
       "    </tr>\n",
       "    <tr>\n",
       "      <th>4</th>\n",
       "      <td>2004-02-01</td>\n",
       "      <td>0</td>\n",
       "      <td>2004</td>\n",
       "      <td>5</td>\n",
       "    </tr>\n",
       "  </tbody>\n",
       "</table>\n",
       "</div>"
      ],
      "text/plain": [
       "        Week  dengue  year  weekofyear\n",
       "0 2004-01-04       0  2004           1\n",
       "1 2004-01-11       0  2004           2\n",
       "2 2004-01-18       0  2004           3\n",
       "3 2004-01-25       0  2004           4\n",
       "4 2004-02-01       0  2004           5"
      ]
     },
     "execution_count": 19,
     "metadata": {},
     "output_type": "execute_result"
    }
   ],
   "source": [
    "df_google_trend.head()"
   ]
  },
  {
   "cell_type": "code",
   "execution_count": 20,
   "metadata": {
    "collapsed": true
   },
   "outputs": [],
   "source": [
    "#Joining dataset with the Google Trend dataset\n",
    "# In this join operation I realized that 1 row did not match. I investigated it and it was an invalide row on the dataset\n",
    "\n",
    "complete_dataset = complete_dataset.merge(df_google_trend, on=['year', 'weekofyear'], how='inner')"
   ]
  },
  {
   "cell_type": "code",
   "execution_count": 21,
   "metadata": {},
   "outputs": [
    {
     "data": {
      "text/html": [
       "<div>\n",
       "<style>\n",
       "    .dataframe thead tr:only-child th {\n",
       "        text-align: right;\n",
       "    }\n",
       "\n",
       "    .dataframe thead th {\n",
       "        text-align: left;\n",
       "    }\n",
       "\n",
       "    .dataframe tbody tr th {\n",
       "        vertical-align: top;\n",
       "    }\n",
       "</style>\n",
       "<table border=\"1\" class=\"dataframe\">\n",
       "  <thead>\n",
       "    <tr style=\"text-align: right;\">\n",
       "      <th></th>\n",
       "      <th>city_x</th>\n",
       "      <th>year</th>\n",
       "      <th>weekofyear</th>\n",
       "      <th>week_start_date</th>\n",
       "      <th>precipitation_amt_mm</th>\n",
       "      <th>reanalysis_relative_humidity_percent</th>\n",
       "      <th>station_avg_temp_c</th>\n",
       "      <th>total_cases</th>\n",
       "      <th>Week</th>\n",
       "      <th>dengue</th>\n",
       "    </tr>\n",
       "  </thead>\n",
       "  <tbody>\n",
       "    <tr>\n",
       "      <th>0</th>\n",
       "      <td>sj</td>\n",
       "      <td>2004</td>\n",
       "      <td>1</td>\n",
       "      <td>2004-01-01</td>\n",
       "      <td>36.35</td>\n",
       "      <td>77.292902</td>\n",
       "      <td>26.885522</td>\n",
       "      <td>15</td>\n",
       "      <td>2004-01-04</td>\n",
       "      <td>0</td>\n",
       "    </tr>\n",
       "    <tr>\n",
       "      <th>1</th>\n",
       "      <td>sj</td>\n",
       "      <td>2004</td>\n",
       "      <td>2</td>\n",
       "      <td>2004-01-08</td>\n",
       "      <td>0.00</td>\n",
       "      <td>72.577143</td>\n",
       "      <td>24.385714</td>\n",
       "      <td>20</td>\n",
       "      <td>2004-01-11</td>\n",
       "      <td>0</td>\n",
       "    </tr>\n",
       "    <tr>\n",
       "      <th>2</th>\n",
       "      <td>sj</td>\n",
       "      <td>2004</td>\n",
       "      <td>3</td>\n",
       "      <td>2004-01-15</td>\n",
       "      <td>36.07</td>\n",
       "      <td>78.942857</td>\n",
       "      <td>24.342857</td>\n",
       "      <td>14</td>\n",
       "      <td>2004-01-18</td>\n",
       "      <td>0</td>\n",
       "    </tr>\n",
       "    <tr>\n",
       "      <th>3</th>\n",
       "      <td>sj</td>\n",
       "      <td>2004</td>\n",
       "      <td>4</td>\n",
       "      <td>2004-01-22</td>\n",
       "      <td>0.00</td>\n",
       "      <td>78.264286</td>\n",
       "      <td>24.528571</td>\n",
       "      <td>10</td>\n",
       "      <td>2004-01-25</td>\n",
       "      <td>0</td>\n",
       "    </tr>\n",
       "    <tr>\n",
       "      <th>4</th>\n",
       "      <td>sj</td>\n",
       "      <td>2004</td>\n",
       "      <td>5</td>\n",
       "      <td>2004-01-29</td>\n",
       "      <td>0.00</td>\n",
       "      <td>75.422857</td>\n",
       "      <td>24.628571</td>\n",
       "      <td>21</td>\n",
       "      <td>2004-02-01</td>\n",
       "      <td>0</td>\n",
       "    </tr>\n",
       "  </tbody>\n",
       "</table>\n",
       "</div>"
      ],
      "text/plain": [
       "  city_x  year  weekofyear week_start_date  precipitation_amt_mm  \\\n",
       "0     sj  2004           1      2004-01-01                 36.35   \n",
       "1     sj  2004           2      2004-01-08                  0.00   \n",
       "2     sj  2004           3      2004-01-15                 36.07   \n",
       "3     sj  2004           4      2004-01-22                  0.00   \n",
       "4     sj  2004           5      2004-01-29                  0.00   \n",
       "\n",
       "   reanalysis_relative_humidity_percent  station_avg_temp_c  total_cases  \\\n",
       "0                             77.292902           26.885522           15   \n",
       "1                             72.577143           24.385714           20   \n",
       "2                             78.942857           24.342857           14   \n",
       "3                             78.264286           24.528571           10   \n",
       "4                             75.422857           24.628571           21   \n",
       "\n",
       "        Week  dengue  \n",
       "0 2004-01-04       0  \n",
       "1 2004-01-11       0  \n",
       "2 2004-01-18       0  \n",
       "3 2004-01-25       0  \n",
       "4 2004-02-01       0  "
      ]
     },
     "execution_count": 21,
     "metadata": {},
     "output_type": "execute_result"
    }
   ],
   "source": [
    "complete_dataset.head()"
   ]
  },
  {
   "cell_type": "code",
   "execution_count": 22,
   "metadata": {
    "collapsed": true
   },
   "outputs": [],
   "source": [
    "# Renaming some columns and drop others\n",
    "\n",
    "complete_dataset['google_trends'] = complete_dataset['dengue']\n",
    "\n",
    "complete_dataset = complete_dataset.drop(labels=['city_x', 'dengue', 'Week'], axis=1)\n"
   ]
  },
  {
   "cell_type": "markdown",
   "metadata": {},
   "source": [
    "#### Feature Engineering"
   ]
  },
  {
   "cell_type": "code",
   "execution_count": 23,
   "metadata": {
    "collapsed": true
   },
   "outputs": [],
   "source": [
    "def leg_data_calculations (start_index,number_of_legs, aggregation_type, data_set, field):    \n",
    "    #variable for the leg calculated column\n",
    "    new_column = field + \"_leg_\" + str(number_of_legs)\n",
    "    data_set[new_column] = 0 \n",
    "\n",
    "    for index in range(start_index, len(data_set)):\n",
    "        # -1 because I don't include the current week and - number of legs\n",
    "        start_index_week = (index-1) - number_of_legs\n",
    "\n",
    "        # -1 because I don't include the current week\n",
    "        end_index_week = index-1\n",
    "    \n",
    "        if aggregation_type == \"sum\": \n",
    "            aggregated_variable = data_set.loc[start_index_week:end_index_week][field].sum()\n",
    "        elif aggregation_type == \"mean\":     \n",
    "            aggregated_variable = data_set.loc[start_index_week:end_index_week][field].mean()\n",
    "    \n",
    "        data_set.loc[index,new_column] = aggregated_variable\n",
    "        \n",
    "        index += 1\n",
    "\n",
    "'''Creating variables considering a lag of 9-16 weeks (based on liteture) for the weather variables --- \n",
    "this lag comprehends the time for the mosquito development and incubation'''        \n",
    "\n",
    "starting_point = 17\n",
    "\n",
    "for leg in range (9, 17):\n",
    "    \n",
    "    leg_data_calculations (start_index = starting_point, number_of_legs = leg, aggregation_type = \"sum\", \n",
    "                           data_set = complete_dataset, field = \"precipitation_amt_mm\") \n",
    "\n",
    "    leg_data_calculations (start_index = starting_point, number_of_legs = leg, aggregation_type = \"mean\", \n",
    "                           data_set = complete_dataset, field = \"reanalysis_relative_humidity_percent\") \n",
    "\n",
    "    leg_data_calculations (start_index = starting_point, number_of_legs = leg, aggregation_type = \"mean\", \n",
    "                           data_set = complete_dataset, field = \"station_avg_temp_c\") \n",
    "\n",
    "    leg_data_calculations (start_index = starting_point, number_of_legs = leg, aggregation_type = \"sum\", \n",
    "                           data_set = complete_dataset, field = \"precipitation_amt_mm\") \n",
    "\n",
    "# Calculating leg for the Google Trends (Ranging from 1 to 4 weeks)    \n",
    "for leg in range (1, 5):\n",
    "    leg_data_calculations (start_index = starting_point, number_of_legs = leg, aggregation_type = \"sum\", \n",
    "                           data_set = complete_dataset, field = \"google_trends\") "
   ]
  },
  {
   "cell_type": "code",
   "execution_count": 24,
   "metadata": {
    "collapsed": true
   },
   "outputs": [],
   "source": [
    "# Deleting the first 16 rows as we don't have previous 16 weeks\n",
    "\n",
    "complete_dataset = complete_dataset.drop(complete_dataset.index[0:starting_point], axis=0)"
   ]
  },
  {
   "cell_type": "code",
   "execution_count": 25,
   "metadata": {
    "collapsed": true
   },
   "outputs": [],
   "source": [
    "# Checking correlation between weather variables and number of cases\n",
    "# Renaming the columns for fitting better on the graph\n",
    "\n",
    "df_correlations = pd.DataFrame()\n",
    "\n",
    "for leg in range (9, 17):\n",
    "    df_correlations[\"preciptation_\" + str(leg)] = complete_dataset[\"precipitation_amt_mm_leg_\" + str(leg)]\n",
    "    df_correlations[\"temperature_\" + str(leg)] = complete_dataset[\"station_avg_temp_c_leg_\" + str(leg)]\n",
    "    df_correlations[\"humidity_\" + str(leg)] = complete_dataset[\"reanalysis_relative_humidity_percent_leg_\" + str(leg)]\n",
    "\n",
    "for leg in range (1, 5):\n",
    "    df_correlations['search_trends_' + str(leg)] = complete_dataset['google_trends_leg_' + str(leg)]\n",
    "    \n",
    "df_correlations['total'] = complete_dataset['total_cases']"
   ]
  },
  {
   "cell_type": "code",
   "execution_count": 26,
   "metadata": {},
   "outputs": [
    {
     "data": {
      "text/html": [
       "<div>\n",
       "<style>\n",
       "    .dataframe thead tr:only-child th {\n",
       "        text-align: right;\n",
       "    }\n",
       "\n",
       "    .dataframe thead th {\n",
       "        text-align: left;\n",
       "    }\n",
       "\n",
       "    .dataframe tbody tr th {\n",
       "        vertical-align: top;\n",
       "    }\n",
       "</style>\n",
       "<table border=\"1\" class=\"dataframe\">\n",
       "  <thead>\n",
       "    <tr style=\"text-align: right;\">\n",
       "      <th></th>\n",
       "      <th>preciptation_16</th>\n",
       "      <th>temperature_14</th>\n",
       "      <th>humidity_14</th>\n",
       "      <th>search_trends_1</th>\n",
       "      <th>total</th>\n",
       "    </tr>\n",
       "  </thead>\n",
       "  <tbody>\n",
       "    <tr>\n",
       "      <th>total</th>\n",
       "      <td>0.429748</td>\n",
       "      <td>0.591675</td>\n",
       "      <td>0.251439</td>\n",
       "      <td>0.623975</td>\n",
       "      <td>1.000000</td>\n",
       "    </tr>\n",
       "    <tr>\n",
       "      <th>search_trends_1</th>\n",
       "      <td>0.231742</td>\n",
       "      <td>0.399067</td>\n",
       "      <td>0.034298</td>\n",
       "      <td>1.000000</td>\n",
       "      <td>0.623975</td>\n",
       "    </tr>\n",
       "    <tr>\n",
       "      <th>temperature_14</th>\n",
       "      <td>0.755646</td>\n",
       "      <td>1.000000</td>\n",
       "      <td>0.636316</td>\n",
       "      <td>0.399067</td>\n",
       "      <td>0.591675</td>\n",
       "    </tr>\n",
       "    <tr>\n",
       "      <th>preciptation_16</th>\n",
       "      <td>1.000000</td>\n",
       "      <td>0.755646</td>\n",
       "      <td>0.719886</td>\n",
       "      <td>0.231742</td>\n",
       "      <td>0.429748</td>\n",
       "    </tr>\n",
       "    <tr>\n",
       "      <th>humidity_14</th>\n",
       "      <td>0.719886</td>\n",
       "      <td>0.636316</td>\n",
       "      <td>1.000000</td>\n",
       "      <td>0.034298</td>\n",
       "      <td>0.251439</td>\n",
       "    </tr>\n",
       "  </tbody>\n",
       "</table>\n",
       "</div>"
      ],
      "text/plain": [
       "                 preciptation_16  temperature_14  humidity_14  \\\n",
       "total                   0.429748        0.591675     0.251439   \n",
       "search_trends_1         0.231742        0.399067     0.034298   \n",
       "temperature_14          0.755646        1.000000     0.636316   \n",
       "preciptation_16         1.000000        0.755646     0.719886   \n",
       "humidity_14             0.719886        0.636316     1.000000   \n",
       "\n",
       "                 search_trends_1     total  \n",
       "total                   0.623975  1.000000  \n",
       "search_trends_1         1.000000  0.623975  \n",
       "temperature_14          0.399067  0.591675  \n",
       "preciptation_16         0.231742  0.429748  \n",
       "humidity_14             0.034298  0.251439  "
      ]
     },
     "execution_count": 26,
     "metadata": {},
     "output_type": "execute_result"
    }
   ],
   "source": [
    "correlation_results =  df_correlations.corr().loc[['total']]\n",
    "\n",
    "# Getting the max correlations for each one of the calculated legs\n",
    "max_correlations = []\n",
    "\n",
    "preciptations_cols = [col for col in correlation_results if col.startswith('preciptation')]\n",
    "max_correlations.append (correlation_results[preciptations_cols].transpose().sort_values('total', ascending = False).head(1).index[0])\n",
    "\n",
    "temperature_cols = [col for col in correlation_results if col.startswith('temperature')]\n",
    "max_correlations.append (correlation_results[temperature_cols].transpose().sort_values('total', ascending = False).head(1).index[0])\n",
    "\n",
    "humidity_cols = [col for col in correlation_results if col.startswith('humidity')]\n",
    "max_correlations.append (correlation_results[humidity_cols].transpose().sort_values('total', ascending = False).head(1).index[0])\n",
    "\n",
    "search_trends_cols = [col for col in correlation_results if col.startswith('search_trends')]\n",
    "max_correlations.append (correlation_results[search_trends_cols].transpose().sort_values('total', ascending = False).head(1).index[0])\n",
    "\n",
    "#features with the highest correlations\n",
    "max_correlations.append('total')\n",
    "\n",
    "df_correlations[max_correlations].corr().sort_values('total', ascending=False)"
   ]
  },
  {
   "cell_type": "code",
   "execution_count": 27,
   "metadata": {},
   "outputs": [
    {
     "data": {
      "text/plain": [
       "<matplotlib.axes._subplots.AxesSubplot at 0x115139588>"
      ]
     },
     "execution_count": 27,
     "metadata": {},
     "output_type": "execute_result"
    },
    {
     "data": {
      "image/png": "[encoded data removed]",
      "text/plain": [
       "<matplotlib.figure.Figure at 0x1120fc780>"
      ]
     },
     "metadata": {},
     "output_type": "display_data"
    }
   ],
   "source": [
    "import seaborn as sns\n",
    "import matplotlib.pyplot as plt\n",
    "%matplotlib inline\n",
    "\n",
    "sns.heatmap(df_correlations[max_correlations].corr())"
   ]
  },
  {
   "cell_type": "markdown",
   "metadata": {},
   "source": [
    "#### Machine Learning "
   ]
  },
  {
   "cell_type": "markdown",
   "metadata": {},
   "source": [
    "Based on the correlations we are going to consider the fields: preciptation, temperature and search trends"
   ]
  },
  {
   "cell_type": "code",
   "execution_count": 28,
   "metadata": {
    "collapsed": true
   },
   "outputs": [],
   "source": [
    "machine_learning_features_df = df_correlations[max_correlations]"
   ]
  },
  {
   "cell_type": "code",
   "execution_count": 29,
   "metadata": {
    "collapsed": true
   },
   "outputs": [],
   "source": [
    "machine_learning_features_df = machine_learning_features_df.drop(labels=['humidity_14'], axis=1)"
   ]
  },
  {
   "cell_type": "code",
   "execution_count": 30,
   "metadata": {},
   "outputs": [
    {
     "data": {
      "text/html": [
       "<div>\n",
       "<style>\n",
       "    .dataframe thead tr:only-child th {\n",
       "        text-align: right;\n",
       "    }\n",
       "\n",
       "    .dataframe thead th {\n",
       "        text-align: left;\n",
       "    }\n",
       "\n",
       "    .dataframe tbody tr th {\n",
       "        vertical-align: top;\n",
       "    }\n",
       "</style>\n",
       "<table border=\"1\" class=\"dataframe\">\n",
       "  <thead>\n",
       "    <tr style=\"text-align: right;\">\n",
       "      <th></th>\n",
       "      <th>preciptation_16</th>\n",
       "      <th>temperature_14</th>\n",
       "      <th>search_trends_1</th>\n",
       "      <th>total</th>\n",
       "    </tr>\n",
       "  </thead>\n",
       "  <tbody>\n",
       "    <tr>\n",
       "      <th>17</th>\n",
       "      <td>130.11</td>\n",
       "      <td>25.114286</td>\n",
       "      <td>0</td>\n",
       "      <td>10</td>\n",
       "    </tr>\n",
       "    <tr>\n",
       "      <th>18</th>\n",
       "      <td>169.04</td>\n",
       "      <td>25.235238</td>\n",
       "      <td>0</td>\n",
       "      <td>7</td>\n",
       "    </tr>\n",
       "    <tr>\n",
       "      <th>19</th>\n",
       "      <td>178.61</td>\n",
       "      <td>25.351429</td>\n",
       "      <td>28</td>\n",
       "      <td>5</td>\n",
       "    </tr>\n",
       "    <tr>\n",
       "      <th>20</th>\n",
       "      <td>158.32</td>\n",
       "      <td>25.491429</td>\n",
       "      <td>28</td>\n",
       "      <td>3</td>\n",
       "    </tr>\n",
       "    <tr>\n",
       "      <th>21</th>\n",
       "      <td>255.31</td>\n",
       "      <td>25.561905</td>\n",
       "      <td>0</td>\n",
       "      <td>12</td>\n",
       "    </tr>\n",
       "  </tbody>\n",
       "</table>\n",
       "</div>"
      ],
      "text/plain": [
       "    preciptation_16  temperature_14  search_trends_1  total\n",
       "17           130.11       25.114286                0     10\n",
       "18           169.04       25.235238                0      7\n",
       "19           178.61       25.351429               28      5\n",
       "20           158.32       25.491429               28      3\n",
       "21           255.31       25.561905                0     12"
      ]
     },
     "execution_count": 30,
     "metadata": {},
     "output_type": "execute_result"
    }
   ],
   "source": [
    "machine_learning_features_df.head()"
   ]
  },
  {
   "cell_type": "code",
   "execution_count": 31,
   "metadata": {
    "collapsed": true
   },
   "outputs": [],
   "source": [
    "# Spliting the dataset between idenpendent and dependent variables\n",
    "\n",
    "idenpendent_variables_with_google_search = machine_learning_features_df.iloc[:, 0:3].values\n",
    "dependent_variable = machine_learning_features_df.iloc[:, 3].values\n",
    "\n",
    "idenpendent_variables_without_google_search = machine_learning_features_df.iloc[:, 0:2].values"
   ]
  },
  {
   "cell_type": "code",
   "execution_count": 32,
   "metadata": {
    "collapsed": true
   },
   "outputs": [],
   "source": [
    "def svm_model (kernel, x, y, y_test):\n",
    "    #Fitting SVM to the training dataset\n",
    "    from sklearn.svm import SVC\n",
    "    classifier = SVC(kernel= kernel, random_state = 0, C = 1)\n",
    "    classifier.fit(x, y)\n",
    "\n",
    "    #Predicting the test results\n",
    "    prediction = classifier.predict(y_test)\n",
    "    \n",
    "    return prediction"
   ]
  },
  {
   "cell_type": "code",
   "execution_count": 33,
   "metadata": {},
   "outputs": [],
   "source": [
    "# Spliting the dataset into the training and test\n",
    "from sklearn.model_selection import train_test_split\n",
    "\n",
    "#first spilit of variables for the case with Google search\n",
    "idenpendent_variables_google_train, idenpendent_variables_google_test, dependent_variable_train, dependent_variable_test = train_test_split(idenpendent_variables_with_google_search, \n",
    "                                                                                                                              dependent_variable, \n",
    "                                                                                                                              test_size=0.25,\n",
    "                                                                                                                              random_state=0) \n",
    "#second spilit of variables for the case without Google search\n",
    "idenpendent_variables_without_google_train, idenpendent_variables_without_google_test, dependent_variable_train, dependent_variable_test = train_test_split(idenpendent_variables_without_google_search, \n",
    "                                                                                                                              dependent_variable, \n",
    "                                                                                                                              test_size=0.25,\n",
    "                                                                                                                              random_state=0) \n",
    "# Feature Scaling : Scaling the values for one not dominating the other (with Google Search)\n",
    "from sklearn.preprocessing import StandardScaler\n",
    "sc = StandardScaler()\n",
    "idenpendent_variables_google_train = sc.fit_transform(idenpendent_variables_google_train)\n",
    "idenpendent_variables_google_test = sc.transform(idenpendent_variables_google_test)\n",
    "\n",
    "# Feature Scaling : Scaling the values for one not dominating the other (without Google Search)\n",
    "from sklearn.preprocessing import StandardScaler\n",
    "sc = StandardScaler()\n",
    "idenpendent_variables_without_google_train = sc.fit_transform(idenpendent_variables_without_google_train)\n",
    "idenpendent_variables_without_google_test = sc.transform(idenpendent_variables_without_google_test)"
   ]
  },
  {
   "cell_type": "code",
   "execution_count": 34,
   "metadata": {
    "collapsed": true
   },
   "outputs": [],
   "source": [
    "# Fitting the models\n",
    "\n",
    "predictor_rbf_with_google = svm_model('rbf', idenpendent_variables_google_train, dependent_variable_train, \n",
    "                                      idenpendent_variables_google_test)\n",
    "\n",
    "predictor_rbf_without_google = svm_model('rbf', idenpendent_variables_without_google_train, dependent_variable_train, \n",
    "                                         idenpendent_variables_without_google_test)\n",
    "\n",
    "predictor_linear_with_google = svm_model('linear', idenpendent_variables_google_train, dependent_variable_train, \n",
    "                                      idenpendent_variables_google_test)\n",
    "\n",
    "predictor_linear_without_google = svm_model('linear', idenpendent_variables_without_google_train, dependent_variable_train, \n",
    "                                         idenpendent_variables_without_google_test)\n",
    "\n",
    "\n",
    "predictor_poly_with_google = svm_model('poly', idenpendent_variables_google_train, dependent_variable_train, \n",
    "                                      idenpendent_variables_google_test)\n",
    "\n",
    "predictor_poly_without_google = svm_model('poly', idenpendent_variables_without_google_train, dependent_variable_train, \n",
    "                                         idenpendent_variables_without_google_test)\n",
    "\n",
    "\n",
    "\n",
    "# Calculation the MAE (Mean Absolute Error for the Models)\n",
    "from sklearn.metrics import mean_absolute_error\n",
    "\n",
    "mae_rbf_with_google = mean_absolute_error(dependent_variable_test, predictor_rbf_with_google)\n",
    "mae_rbf_without_google = mean_absolute_error(dependent_variable_test, predictor_rbf_without_google)\n",
    "\n",
    "mae_linear_with_google = mean_absolute_error(dependent_variable_test, predictor_linear_with_google)\n",
    "mae_linear_without_google = mean_absolute_error(dependent_variable_test, predictor_linear_without_google)\n",
    "\n",
    "mae_poly_with_google = mean_absolute_error(dependent_variable_test, predictor_poly_with_google)\n",
    "mae_poly_without_google = mean_absolute_error(dependent_variable_test, predictor_poly_without_google)"
   ]
  },
  {
   "cell_type": "code",
   "execution_count": 35,
   "metadata": {},
   "outputs": [
    {
     "name": "stdout",
     "output_type": "stream",
     "text": [
      "MAE (SVM-RBF) with Google search interest:  12.85\n",
      "MAE (SVM-RBF) without Google search interest:  14.12\n",
      "\n",
      "\n",
      "MAE (SVM-Linear) with Google search interest:  10.15\n",
      "MAE (SVM-Linear) without Google search interest:  13.52\n",
      "\n",
      "\n",
      "MAE (SVM-Poly) with Google search interest:  11.6\n",
      "MAE (SVM-Poly) without Google search interest:  12.23\n"
     ]
    }
   ],
   "source": [
    "print (\"MAE (SVM-RBF) with Google search interest: \", round(mae_rbf_with_google,2))\n",
    "print (\"MAE (SVM-RBF) without Google search interest: \", round(mae_rbf_without_google,2))\n",
    "print (\"\\n\") \n",
    "print (\"MAE (SVM-Linear) with Google search interest: \", round(mae_linear_with_google,2))\n",
    "print (\"MAE (SVM-Linear) without Google search interest: \", round(mae_linear_without_google,2))\n",
    "print (\"\\n\")\n",
    "print (\"MAE (SVM-Poly) with Google search interest: \", round(mae_poly_with_google,2))\n",
    "print (\"MAE (SVM-Poly) without Google search interest: \", round(mae_poly_without_google,2))"
   ]
  },
  {
   "cell_type": "code",
   "execution_count": 36,
   "metadata": {},
   "outputs": [
    {
     "name": "stdout",
     "output_type": "stream",
     "text": [
      "Performance Improvement (Linear Model) =  3.37\n"
     ]
    }
   ],
   "source": [
    "print(\"Performance Improvement (Linear Model) = \", round(mae_linear_without_google - mae_linear_with_google,2))"
   ]
  }
 ],
 "metadata": {
  "kernelspec": {
   "display_name": "Python 3",
   "language": "python",
   "name": "python3"
  },
  "language_info": {
   "codemirror_mode": {
    "name": "ipython",
    "version": 3
   },
   "file_extension": ".py",
   "mimetype": "text/x-python",
   "name": "python",
   "nbconvert_exporter": "python",
   "pygments_lexer": "ipython3",
   "version": "3.6.3"
  }
 },
 "nbformat": 4,
 "nbformat_minor": 2
}
